{
 "cells": [
  {
   "cell_type": "markdown",
   "metadata": {},
   "source": [
    "# Welcome to Python 101\n",
    "\n",
    "## 1. print"
   ]
  },
  {
   "cell_type": "code",
   "execution_count": 1,
   "metadata": {},
   "outputs": [
    {
     "name": "stdout",
     "output_type": "stream",
     "text": [
      "Hello World\n"
     ]
    }
   ],
   "source": [
    "print(\"Hello World\")"
   ]
  },
  {
   "cell_type": "code",
   "execution_count": 2,
   "metadata": {},
   "outputs": [
    {
     "name": "stdout",
     "output_type": "stream",
     "text": [
      "Help on built-in function print in module builtins:\n",
      "\n",
      "print(...)\n",
      "    print(value, ..., sep=' ', end='\\n', file=sys.stdout, flush=False)\n",
      "    \n",
      "    Prints the values to a stream, or to sys.stdout by default.\n",
      "    Optional keyword arguments:\n",
      "    file:  a file-like object (stream); defaults to the current sys.stdout.\n",
      "    sep:   string inserted between values, default a space.\n",
      "    end:   string appended after the last value, default a newline.\n",
      "    flush: whether to forcibly flush the stream.\n",
      "\n"
     ]
    }
   ],
   "source": [
    "help(print)"
   ]
  },
  {
   "cell_type": "code",
   "execution_count": 3,
   "metadata": {},
   "outputs": [
    {
     "name": "stdout",
     "output_type": "stream",
     "text": [
      "Hello World\n",
      "...\n"
     ]
    }
   ],
   "source": [
    "# we can also print multiple strings\n",
    "print(\"Hello\", \"World\")\n",
    "print(\"...\")"
   ]
  },
  {
   "cell_type": "code",
   "execution_count": 4,
   "metadata": {},
   "outputs": [
    {
     "name": "stdout",
     "output_type": "stream",
     "text": [
      "Hello, World!"
     ]
    }
   ],
   "source": [
    "# we can change the seperator\n",
    "print(\"Hello\", \"World\", sep=\", \", end=\"!\")"
   ]
  },
  {
   "cell_type": "code",
   "execution_count": 5,
   "metadata": {},
   "outputs": [
    {
     "name": "stdout",
     "output_type": "stream",
     "text": [
      "Hello World. ...\n"
     ]
    }
   ],
   "source": [
    "# we can change the end\n",
    "print(\"Hello\", \"World\", end=\". \")\n",
    "print(\"...\")"
   ]
  },
  {
   "cell_type": "code",
   "execution_count": 6,
   "metadata": {},
   "outputs": [
    {
     "name": "stdout",
     "output_type": "stream",
     "text": [
      "1 1.3 True\n"
     ]
    }
   ],
   "source": [
    "# we can print also other types\n",
    "print(1, 1.3, True)"
   ]
  },
  {
   "cell_type": "markdown",
   "metadata": {},
   "source": [
    "## 2 Numbers and operations"
   ]
  },
  {
   "cell_type": "code",
   "execution_count": 7,
   "metadata": {},
   "outputs": [
    {
     "name": "stdout",
     "output_type": "stream",
     "text": [
      "1 -1 100000\n",
      "1.0 0.3333333333333333 0.3\n",
      "1j (-1+0j)\n"
     ]
    }
   ],
   "source": [
    "# integers\n",
    "print(1, -1, 100_000)\n",
    "\n",
    "# floats\n",
    "print(1.0, 1/3, 0.3)\n",
    "\n",
    "# imaginary numbers\n",
    "print(1j, 1j * 1j)"
   ]
  },
  {
   "cell_type": "code",
   "execution_count": 8,
   "metadata": {},
   "outputs": [
    {
     "name": "stdout",
     "output_type": "stream",
     "text": [
      "3 + 4 =  7 # addition\n",
      "4 - 6 =  -2 # substraction\n",
      "3 * 7 =  21 # multiplication\n",
      "5 // 2 =  2 # integer division\n",
      "5 % 2 =  1 # modulo division\n",
      "5 / 2 =  2.5 # floating point division\n",
      "4 / 2 =  2.0 # floating point division without \n",
      "2 ** 4 =  16 # power math.pow\n",
      "4 << 1 =  8 # bitshift left\n",
      "4 >> 1 =  2 # bitshift right\n",
      "5 ^ 1 =  4 # XOR\n"
     ]
    }
   ],
   "source": [
    "print(\"3 + 4 = \", 3 + 4, \"# addition\")\n",
    "print(\"4 - 6 = \", 4 - 6, \"# substraction\")\n",
    "print(\"3 * 7 = \", 3 * 7, \"# multiplication\")\n",
    "print(\"5 // 2 = \", 5 // 2, \"# integer division\")\n",
    "print(\"5 % 2 = \", 5 % 2, \"# modulo division\")\n",
    "print(\"5 / 2 = \", 5 / 2, \"# floating point division\")\n",
    "print(\"4 / 2 = \", 4 / 2, \"# floating point division without \")\n",
    "print(\"2 ** 4 = \", 2 ** 4, \"# power math.pow\")\n",
    "print(\"4 << 1 = \", 4 << 1, \"# bitshift left\")\n",
    "print(\"4 >> 1 = \", 4 >> 1, \"# bitshift right\")\n",
    "print(\"5 ^ 1 = \", 5 ^ 1, \"# XOR\")"
   ]
  },
  {
   "cell_type": "markdown",
   "metadata": {},
   "source": [
    "most of the operators work also for floats"
   ]
  },
  {
   "cell_type": "code",
   "execution_count": 9,
   "metadata": {},
   "outputs": [
    {
     "name": "stdout",
     "output_type": "stream",
     "text": [
      "3.5 + 4.3 =  7.8 # addition\n",
      "4.5 - 6.3 =  -1.8 # subtraction\n",
      "3.5 * 7.3 =  25.55 # multiplication\n",
      "3.5 // 2.3 =  1.0 # integer division\n",
      "3.5 % 2.3 =  1.2000000000000002 # modulo division\n",
      "3.5 / 2.3 =  1.5217391304347827 # floating point division\n",
      "2.5 ** 4.3 =  51.42117985680614 # power\n"
     ]
    }
   ],
   "source": [
    "print(\"3.5 + 4.3 = \", 3.5 + 4.3, \"# addition\")\n",
    "print(\"4.5 - 6.3 = \", round(4.5 - 6.3, 2), \"# subtraction\")\n",
    "print(\"3.5 * 7.3 = \", 3.5 * 7.3, \"# multiplication\")\n",
    "print(\"3.5 // 2.3 = \", 3.5 // 2.3, \"# integer division\")\n",
    "print(\"3.5 % 2.3 = \", 3.5 % 2.3, \"# modulo division\")\n",
    "print(\"3.5 / 2.3 = \", 3.5 / 2.3, \"# floating point division\")\n",
    "print(\"2.5 ** 4.3 = \", 2.5 ** 4.3, \"# power\")"
   ]
  },
  {
   "cell_type": "markdown",
   "metadata": {},
   "source": [
    "bitshift and xor are not compatible and will raise an error"
   ]
  },
  {
   "cell_type": "code",
   "execution_count": 10,
   "metadata": {},
   "outputs": [
    {
     "ename": "TypeError",
     "evalue": "unsupported operand type(s) for <<: 'float' and 'float'",
     "output_type": "error",
     "traceback": [
      "\u001b[0;31m---------------------------------------------------------------------------\u001b[0m",
      "\u001b[0;31mTypeError\u001b[0m                                 Traceback (most recent call last)",
      "\u001b[0;32m<ipython-input-10-c394640010fb>\u001b[0m in \u001b[0;36m<module>\u001b[0;34m\u001b[0m\n\u001b[0;32m----> 1\u001b[0;31m \u001b[0mprint\u001b[0m\u001b[0;34m(\u001b[0m\u001b[0;34m\"4.5 << 1.3 = \"\u001b[0m\u001b[0;34m,\u001b[0m \u001b[0;36m4.5\u001b[0m \u001b[0;34m<<\u001b[0m \u001b[0;36m1.3\u001b[0m\u001b[0;34m)\u001b[0m\u001b[0;34m\u001b[0m\u001b[0;34m\u001b[0m\u001b[0m\n\u001b[0m",
      "\u001b[0;31mTypeError\u001b[0m: unsupported operand type(s) for <<: 'float' and 'float'"
     ]
    }
   ],
   "source": [
    "print(\"4.5 << 1.3 = \", 4.5 << 1.3)"
   ]
  },
  {
   "cell_type": "markdown",
   "metadata": {},
   "source": [
    "\n",
    "## 3. variables\n",
    "\n",
    "    Readability counts. - Zen of Python\n",
    "\n",
    "Variables are use to save values to reuse them later. A variable itself only points to a value and does not have a fixed type."
   ]
  },
  {
   "cell_type": "code",
   "execution_count": 11,
   "metadata": {},
   "outputs": [
    {
     "name": "stdout",
     "output_type": "stream",
     "text": [
      "4\t12\n",
      "2.99\t0.49\n",
      "\n",
      "ham: \t11.96\n",
      "egg: \t5.88\n",
      "===============\n",
      "total: \t17.84\n"
     ]
    }
   ],
   "source": [
    "number_ham_packages = 4\n",
    "number_egg_packages = 12\n",
    "ham_price = 2.99\n",
    "egg_price = 0.49\n",
    "print(number_ham_packages, number_egg_packages, sep=\"\\t\")\n",
    "print(ham_price, egg_price, sep=\"\\t\")\n",
    "print()\n",
    "total_hame_price = number_ham_packages * ham_price\n",
    "total_egg_price = number_egg_packages * egg_price\n",
    "print(\"ham: \", total_hame_price, sep=\"\\t\")\n",
    "print(\"egg: \", total_egg_price, sep=\"\\t\")\n",
    "total = total_hame_price + total_egg_price\n",
    "print(\"=\" * 15)\n",
    "print(\"total: \", total, sep=\"\\t\")"
   ]
  },
  {
   "cell_type": "code",
   "execution_count": null,
   "metadata": {},
   "outputs": [],
   "source": []
  },
  {
   "cell_type": "code",
   "execution_count": 12,
   "metadata": {},
   "outputs": [
    {
     "name": "stdout",
     "output_type": "stream",
     "text": [
      "'a' <class 'str'>\n",
      "2 <class 'int'>\n",
      "4.8 <class 'float'>\n",
      "True <class 'bool'>\n"
     ]
    }
   ],
   "source": [
    "# to get the type of a value, you can use the type() function\n",
    "# to get the text representation of a value, you can use the repr() function\n",
    "print(repr(\"a\"), type(\"a\"))\n",
    "print(repr(2), type(2))\n",
    "print(repr(4.8), type(4.8))\n",
    "print(repr(True), type(True))\n",
    "\n"
   ]
  },
  {
   "cell_type": "markdown",
   "metadata": {},
   "source": [
    "## strings"
   ]
  },
  {
   "cell_type": "code",
   "execution_count": 13,
   "metadata": {},
   "outputs": [
    {
     "name": "stdout",
     "output_type": "stream",
     "text": [
      "single quote double quote\n",
      "'single quote' 'double quote'\n"
     ]
    }
   ],
   "source": [
    "single = 'single quote'\n",
    "double = \"double quote\"\n",
    "print(single, double)\n",
    "print(repr(single), repr(double))"
   ]
  },
  {
   "cell_type": "code",
   "execution_count": 14,
   "metadata": {},
   "outputs": [
    {
     "name": "stdout",
     "output_type": "stream",
     "text": [
      "this string contains 'single quotes'\n",
      "this string contains \"double quotes\"\n",
      "this sting contains 'single' and \"double\" quotes\n"
     ]
    }
   ],
   "source": [
    "# how to store a string with quotes\n",
    "print(\"this string contains 'single quotes'\")\n",
    "print('this string contains \"double quotes\"')\n",
    "print(\"this sting contains 'single' and \\\"double\\\" quotes\")"
   ]
  },
  {
   "cell_type": "code",
   "execution_count": 15,
   "metadata": {},
   "outputs": [
    {
     "name": "stdout",
     "output_type": "stream",
     "text": [
      "\"string with 'single' quotes\"\n",
      "'string with \"double\" quotes'\n",
      "'string with \\'single\\' quotes and string with \"double\" quotes'\n"
     ]
    }
   ],
   "source": [
    "single = \"string with 'single' quotes\"\n",
    "double = 'string with \"double\" quotes'\n",
    "print(repr(single))\n",
    "print(repr(double))\n",
    "print(repr(single + \" and \" + double))"
   ]
  },
  {
   "cell_type": "code",
   "execution_count": 16,
   "metadata": {},
   "outputs": [
    {
     "name": "stdout",
     "output_type": "stream",
     "text": [
      "line 1\n",
      "line 2\n",
      "line 3\n",
      "\n",
      "line 1\n",
      "line 2\n",
      "line 3\n"
     ]
    }
   ],
   "source": [
    "print(\"line 1\\nline 2\\nline 3\")\n",
    "print()\n",
    "print(\"\"\"line 1\n",
    "line 2\n",
    "line 3\"\"\")"
   ]
  },
  {
   "cell_type": "code",
   "execution_count": 17,
   "metadata": {},
   "outputs": [
    {
     "name": "stdout",
     "output_type": "stream",
     "text": [
      "hello world\n"
     ]
    }
   ],
   "source": [
    "# strings can be added / concatinated\n",
    "print(\"hello \"+ \"world\")"
   ]
  },
  {
   "cell_type": "code",
   "execution_count": 18,
   "metadata": {},
   "outputs": [
    {
     "ename": "TypeError",
     "evalue": "can only concatenate str (not \"int\") to str",
     "output_type": "error",
     "traceback": [
      "\u001b[0;31m---------------------------------------------------------------------------\u001b[0m",
      "\u001b[0;31mTypeError\u001b[0m                                 Traceback (most recent call last)",
      "\u001b[0;32m<ipython-input-18-ad972066b97c>\u001b[0m in \u001b[0;36m<module>\u001b[0;34m\u001b[0m\n\u001b[1;32m      1\u001b[0m \u001b[0;31m# but you can't add integers to the string\u001b[0m\u001b[0;34m\u001b[0m\u001b[0;34m\u001b[0m\u001b[0;34m\u001b[0m\u001b[0m\n\u001b[0;32m----> 2\u001b[0;31m \u001b[0;34m\"hello\"\u001b[0m \u001b[0;34m+\u001b[0m \u001b[0;36m1\u001b[0m\u001b[0;34m\u001b[0m\u001b[0;34m\u001b[0m\u001b[0m\n\u001b[0m",
      "\u001b[0;31mTypeError\u001b[0m: can only concatenate str (not \"int\") to str"
     ]
    }
   ],
   "source": [
    "# but you can't add integers to the string\n",
    "\"hello\" + 1"
   ]
  },
  {
   "cell_type": "code",
   "execution_count": 19,
   "metadata": {},
   "outputs": [
    {
     "ename": "TypeError",
     "evalue": "can't multiply sequence by non-int of type 'str'",
     "output_type": "error",
     "traceback": [
      "\u001b[0;31m---------------------------------------------------------------------------\u001b[0m",
      "\u001b[0;31mTypeError\u001b[0m                                 Traceback (most recent call last)",
      "\u001b[0;32m<ipython-input-19-c81cf7a17a30>\u001b[0m in \u001b[0;36m<module>\u001b[0;34m\u001b[0m\n\u001b[1;32m      1\u001b[0m \u001b[0;31m# you can't multiplicate strings with strings\u001b[0m\u001b[0;34m\u001b[0m\u001b[0;34m\u001b[0m\u001b[0;34m\u001b[0m\u001b[0m\n\u001b[0;32m----> 2\u001b[0;31m \u001b[0;34m\"hello\"\u001b[0m \u001b[0;34m*\u001b[0m \u001b[0;34m\"world\"\u001b[0m\u001b[0;34m\u001b[0m\u001b[0;34m\u001b[0m\u001b[0m\n\u001b[0m",
      "\u001b[0;31mTypeError\u001b[0m: can't multiply sequence by non-int of type 'str'"
     ]
    }
   ],
   "source": [
    "# you can't multiplicate strings with strings\n",
    "\"hello\" * \"world\""
   ]
  },
  {
   "cell_type": "code",
   "execution_count": 20,
   "metadata": {},
   "outputs": [
    {
     "name": "stdout",
     "output_type": "stream",
     "text": [
      "====================\n"
     ]
    }
   ],
   "source": [
    "# but you can multiplacte strings with an integer\n",
    "\n",
    "print(\"=\" * 20)"
   ]
  },
  {
   "cell_type": "code",
   "execution_count": 21,
   "metadata": {},
   "outputs": [
    {
     "name": "stdout",
     "output_type": "stream",
     "text": [
      "the test string is 48 characters long\n",
      "this is a long test string with many characters.\n",
      "------------------------------------------------\n"
     ]
    }
   ],
   "source": [
    "test_string = \"this is a long test string with many characters.\"\n",
    "string_len = len(test_string)\n",
    "print(\"the test string is\", string_len, \"characters long\")\n",
    "print(test_string)\n",
    "print(\"-\" * string_len)"
   ]
  },
  {
   "cell_type": "code",
   "execution_count": 22,
   "metadata": {},
   "outputs": [
    {
     "name": "stdout",
     "output_type": "stream",
     "text": [
      "number: 14 and string: a string <class 'str'> 'a string' 'a string'\n"
     ]
    }
   ],
   "source": [
    "# string format\n",
    "my_number = 14\n",
    "my_string = \"a string\"\n",
    "print(f\"number: {my_number} and string: {my_string} {type(my_string)} {repr(my_string)} {my_string!r}\")"
   ]
  },
  {
   "cell_type": "code",
   "execution_count": 23,
   "metadata": {},
   "outputs": [
    {
     "name": "stdout",
     "output_type": "stream",
     "text": [
      "a string\n",
      "--------\n"
     ]
    }
   ],
   "source": [
    "print(f\"{my_string}\\n{len(my_string) * '-'}\")"
   ]
  }
 ],
 "metadata": {
  "kernelspec": {
   "display_name": "Python 3",
   "language": "python",
   "name": "python3"
  },
  "language_info": {
   "codemirror_mode": {
    "name": "ipython",
    "version": 3
   },
   "file_extension": ".py",
   "mimetype": "text/x-python",
   "name": "python",
   "nbconvert_exporter": "python",
   "pygments_lexer": "ipython3",
   "version": "3.7.4"
  }
 },
 "nbformat": 4,
 "nbformat_minor": 2
}
